{
 "cells": [
  {
   "cell_type": "markdown",
   "metadata": {},
   "source": [
    "# M/M/1 Simulator"
   ]
  },
  {
   "cell_type": "markdown",
   "metadata": {},
   "source": [
    "Packages"
   ]
  },
  {
   "cell_type": "code",
   "execution_count": 26,
   "metadata": {},
   "outputs": [],
   "source": [
    "import pandas as pd\n",
    "import matplotlib.pyplot as plt\n",
    "from scipy import stats\n",
    "import numpy as np\n",
    "from numpy import *\n",
    "import os\n",
    "import random"
   ]
  },
  {
   "cell_type": "markdown",
   "metadata": {},
   "source": [
    "Manage queue- find the next available costumer (FCFS policy)"
   ]
  },
  {
   "cell_type": "code",
   "execution_count": 27,
   "metadata": {},
   "outputs": [],
   "source": [
    "#for single class setting\n",
    "def find_next_index(df,time):\n",
    "    df=df[df['scheduled'] == 0]\n",
    "    if df.empty: # for self-use  \n",
    "        return -1\n",
    "    else:\n",
    "        min_time=df['arrival'].min()\n",
    "        df=df[df['arrival'] == min_time]\n",
    "        return df.iloc[0,0]"
   ]
  },
  {
   "cell_type": "markdown",
   "metadata": {},
   "source": [
    "Calculate queue length"
   ]
  },
  {
   "cell_type": "code",
   "execution_count": 28,
   "metadata": {},
   "outputs": [],
   "source": [
    "# for each setting   \n",
    "def q_len(df,time):\n",
    "    df_1=df[df['scheduled'] == 0]\n",
    "    df_1=df_1[df_1['arrival'] <= time]\n",
    "    if df_1.empty:\n",
    "        return 0\n",
    "    else:\n",
    "        return len(df_1)"
   ]
  },
  {
   "cell_type": "code",
   "execution_count": null,
   "metadata": {},
   "outputs": [],
   "source": [
    "Calculate waiting time"
   ]
  },
  {
   "cell_type": "code",
   "execution_count": 29,
   "metadata": {},
   "outputs": [],
   "source": [
    "def calc_wt(df,time):\n",
    "    df_1 = df[df['arrival'] <= time]\n",
    "    df_1 = df_1[df_1['service'] > time]\n",
    "    if df_1.empty:\n",
    "        return 0\n",
    "    else:\n",
    "        en_max = df_1['arrival'].max()\n",
    "        x = df_1[df_1['arrival'] == en_max ]\n",
    "        x = x.reset_index(drop=True)\n",
    "        wt = (x.at[0, 'service']) - time\n",
    "        return wt  "
   ]
  },
  {
   "cell_type": "markdown",
   "metadata": {},
   "source": [
    "Create event log"
   ]
  },
  {
   "cell_type": "code",
   "execution_count": 30,
   "metadata": {},
   "outputs": [],
   "source": [
    "def create_event_log(sample_arrivals, sample_services, class_flag ): # class_flag is binary: 1=multi class, 0=single class\n",
    "    #Data-frame intiation\n",
    "    df_sim = pd.DataFrame(sample_arrivals,columns = ['arrival'])\n",
    "    df_sim.reset_index(inplace=True)\n",
    "    df_sim['waiting'] = 0.0\n",
    "    df_sim['service'] = 0.0\n",
    "    df_sim['execution'] = 0.0\n",
    "    df_sim['completion'] = 0.0\n",
    "    df_sim['sojourn_time'] = 0.0\n",
    "    if class_flag == 1: \n",
    "        sample_class = list(np.random.choice(class_num , len(df_sim), class_distribution))\n",
    "        df_sim['class'] = sample_class\n",
    "    df_sim['scheduled'] = 0\n",
    "    df_sim['order'] = 0\n",
    "    df_sim['busy'] = 0\n",
    "    df_sim['queue_length'] = 0\n",
    "\n",
    "    t = df_sim['arrival'].min() #The time when the first sutomer starts getting service\n",
    "    i = 0\n",
    "\n",
    "    q_len_seq = [] #list for the plot\n",
    "    time_seq = [] #list for the plot\n",
    "    list_busy = []\n",
    "    bp_len = 0\n",
    "    while i < len(df_sim):\n",
    "        if class_flag == 0: #single class\n",
    "            j = find_next_index(df_sim, t) #find the next available costumer\n",
    "        else: #multi-class\n",
    "            j = find_next_index_class(df_sim, t) #find the next available costumer    \n",
    "        if j != -1:\n",
    "            if df_sim.at[j, 'arrival'] <= t: #the customer wait for service\n",
    "                df_sim.at[j, 'service'] = t\n",
    "                bp_len +=1\n",
    "                df_sim.at[j, 'busy'] = 1\n",
    "            else: # server wait to customer\n",
    "                df_sim.at[j, 'service'] = df_sim.at[j, 'arrival']\n",
    "                if bp_len > 0:\n",
    "                    list_busy.append(bp_len)\n",
    "                bp_len = 0\n",
    "            df_sim.at[j, 'completion'] = df_sim.at[j,'service'] + sample_services[j]\n",
    "            df_sim.at[j,'execution'] = sample_services[j]\n",
    "            df_sim.at[j, 'scheduled'] = 1\n",
    "            df_sim.at[j, 'queue_length'] = q_len(df_sim,t)\n",
    "            time_seq.append(df_sim.at[j, 'service'])\n",
    "            q_len_seq.append(df_sim.at[j, 'queue_length'])\n",
    "            t= df_sim.at[j, 'completion']\n",
    "            df_sim.at[j, 'order'] = i\n",
    "            i = i+1\n",
    "        else: \n",
    "            print('eroor')\n",
    "    \n",
    "    if bp_len > 0:\n",
    "        list_busy.append(bp_len) \n",
    "        \n",
    "    for i in range(len(df_sim)):\n",
    "        df_sim.at[i, 'sojourn_time'] = df_sim.at[i,'completion'] - df_sim.at[i,'arrival']\n",
    "        df_sim.at[i, 'wt'] = calc_wt(df_sim, df_sim.at[i, 'service'] )\n",
    "    df_sim.at[0, 'busy'] = 0    \n",
    "    return df_sim, q_len_seq, time_seq, list_busy  "
   ]
  },
  {
   "cell_type": "markdown",
   "metadata": {},
   "source": [
    "This fuction get simulation in Dataframe format and return Dataframes that include all the  busy-periods "
   ]
  },
  {
   "cell_type": "code",
   "execution_count": 18,
   "metadata": {},
   "outputs": [],
   "source": [
    "def create_busy_periods(df, j):\n",
    "     list_busy = []\n",
    "    period = 0\n",
    "    k = 0 #local lower-bound\n",
    "    l = 0 #local upper-bound\n",
    "\n",
    "    for i in range(len(df)):\n",
    "        if df.at[i,'busy'] == 1:\n",
    "            if period == 0 and df.at[i-1,'busy'] == 0:\n",
    "                k = i-1\n",
    "                l = i\n",
    "                period += 1\n",
    "            else: \n",
    "                l = i\n",
    "            period += 1\n",
    "        else:\n",
    "            if period >15:\n",
    "                l = l+1\n",
    "                temp = df[k:l]\n",
    "                temp = temp.reset_index(drop=True) \n",
    "                min_time = temp['service'].min()\n",
    "                temp['arrival'] = temp['arrival'].map(lambda x: x - min_time )\n",
    "                temp['service'] = temp['service'].map(lambda x: x - min_time )\n",
    "                temp['completion'] = temp['completion'].map(lambda x: x - min_time )\n",
    "                temp.to_csv(r'simulations/busy_periods/bp_%s.csv' %j, index = False)\n",
    "                j += 1\n",
    "\n",
    "            period = 0\n",
    "    if period > 15:\n",
    "        l = l+1\n",
    "        temp = df[k:l]\n",
    "        temp = temp.reset_index(drop=True) \n",
    "        min_time = temp['arrival'].min()\n",
    "        temp['arrival'] = temp['arrival'].map(lambda x: x - min_time )\n",
    "        temp['service'] = temp['service'].map(lambda x: x - min_time )\n",
    "        temp['completion'] = temp['completion'].map(lambda x: x - min_time )\n",
    "        temp.to_csv(r'simulations/busy_periods/bp_%s.csv' %j, index = False)\n",
    "        j += 1\n",
    "        \n",
    "    return j\n",
    "           "
   ]
  },
  {
   "cell_type": "markdown",
   "metadata": {},
   "source": [
    "The simulator code:"
   ]
  },
  {
   "cell_type": "code",
   "execution_count": null,
   "metadata": {},
   "outputs": [],
   "source": [
    "num_of_arrivals = 55000\n",
    "intensity_arrivals = [0.84, 0.86, 0.88, 0.9, 0.92] # \n",
    "intensity_services = 1 \n",
    "\n",
    "j = 0 # indicator for the number of each busy period output.\n",
    "for dist in range(len(intensity_arrivals)):\n",
    "    scale_parameter_arrivals= 1/intensity_arrivals[dist]\n",
    "    scale_parameter_services= 1/intensity_services\n",
    "\n",
    "    sample_arrivals = list(np.random.exponential( scale=float(scale_parameter_arrivals), size=num_of_arrivals))\n",
    "    sample_arrivals[0] = 0.0\n",
    "\n",
    "    f= open(\"simulations/sim(M_M_1)_lambda_%s.txt\" %(dist),\"w+\")\n",
    "    f.write(\"number of arrivals: %s\\n\" % (num_of_arrivals))\n",
    "    f.write(\"arrivals rate: %s  \\r\\n\" % (intensity_arrivals[dist]))\n",
    "    f.write(\"service rate: %s \\r\\n\" % (intensity_services))\n",
    "\n",
    "\n",
    "    for i in range(1, num_of_arrivals):\n",
    "        sample_arrivals[i] = sample_arrivals[i] + sample_arrivals[i-1]   \n",
    "\n",
    "    x_min = min(sample_arrivals)\n",
    "    if x_min < 0:\n",
    "        sample_arrivals = [x - x_min for x in sample_arrivals ]\n",
    "        \n",
    "    sample_arrivals.sort()\n",
    "        \n",
    "    #sample executions\n",
    "    sample_services = list(np.random.exponential( scale=float(scale_parameter_services), size=num_of_arrivals))    \n",
    "\n",
    "    df, q_len_seq, time_seq, list_busy = create_event_log(sample_arrivals, sample_services, class_flag = 0 )\n",
    "    df.to_csv(r'simulations/sim_%s.csv' %(dist) , index = False)\n",
    "\n",
    "\n",
    "    f.write('Lengths of busy-periods: %s\\n' %(list_busy))\n",
    "    avg = (sum(list_busy)/len(list_busy))\n",
    "    f.write('Average length of busy-period: %d\\n' %(avg))\n",
    "    maxi = max(list_busy)\n",
    "    f.write('Max length of busy-period: %d\\r\\n' %(maxi))\n",
    "\n",
    "    # plot queue length\\time\n",
    "    plt.figure()\n",
    "    plt.plot(time_seq , q_len_seq  )\n",
    "    plt.axis([0, df['completion'].max(), 0, df['queue_length'].max()])\n",
    "    plt.ylabel('Number of cases in queue')\n",
    "    plt.xlabel('Time')\n",
    "    plt.title('Queue length')\n",
    "    plt.savefig('simulations/sim(M_M_1)_%s.png' %(dist))\n",
    "\n",
    "    f.close() \n",
    "    \n",
    "    j = create_busy_periods(df, j)\n",
    "\n"
   ]
  }
 ],
 "metadata": {
  "kernelspec": {
   "display_name": "Python 3",
   "language": "python",
   "name": "python3"
  },
  "language_info": {
   "codemirror_mode": {
    "name": "ipython",
    "version": 3
   },
   "file_extension": ".py",
   "mimetype": "text/x-python",
   "name": "python",
   "nbconvert_exporter": "python",
   "pygments_lexer": "ipython3",
   "version": "3.7.3"
  }
 },
 "nbformat": 4,
 "nbformat_minor": 2
}
